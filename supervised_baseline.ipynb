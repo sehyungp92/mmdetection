{
  "nbformat": 4,
  "nbformat_minor": 0,
  "metadata": {
    "colab": {
      "name": "supervised_baseline.ipynb",
      "provenance": [],
      "machine_shape": "hm"
    },
    "kernelspec": {
      "name": "python3",
      "display_name": "Python 3"
    },
    "accelerator": "GPU"
  },
  "cells": [
    {
      "cell_type": "code",
      "metadata": {
        "id": "Qnjx1DqAwhCJ",
        "colab_type": "code",
        "colab": {}
      },
      "source": [
        "!git clone https://github.com/sehyungp92/mmdetection\n",
        "!pip install mmcv==0.6.2 terminaltables\n",
        "%cd mmdetection\n",
        "!python setup.py develop\n",
        "!pip install \"git+https://github.com/open-mmlab/cocoapi.git#subdirectory=pycocotools\"\n",
        "!pip install --upgrade albumentations"
      ],
      "execution_count": null,
      "outputs": []
    },
    {
      "cell_type": "code",
      "metadata": {
        "id": "-MhWJryqwj-n",
        "colab_type": "code",
        "colab": {}
      },
      "source": [
        "import os\n",
        "import sys\n",
        "import random\n",
        "import itertools\n",
        "import colorsys\n",
        "import glob\n",
        "\n",
        "import numpy as np\n",
        "import torch\n",
        "from skimage.measure import find_contours\n",
        "import skimage.color\n",
        "import skimage.io\n",
        "import skimage.transform\n",
        "import matplotlib.pyplot as plt\n",
        "from matplotlib import patches, lines\n",
        "from matplotlib.patches import Polygon\n",
        "import cv2\n",
        "import IPython.display"
      ],
      "execution_count": null,
      "outputs": []
    },
    {
      "cell_type": "code",
      "metadata": {
        "id": "aXg1ejW7wkAy",
        "colab_type": "code",
        "colab": {
          "base_uri": "https://localhost:8080/",
          "height": 70
        },
        "outputId": "0c4ce0fb-2b7f-49e9-9c27-6d30f7947148"
      },
      "source": [
        "import mmcv\n",
        "from mmcv.runner import load_checkpoint\n",
        "import mmcv.visualization.image as mmcv_image\n",
        "from mmdet.models import build_detector\n",
        "from mmdet.apis import init_detector, inference_detector, show_result_pyplot"
      ],
      "execution_count": null,
      "outputs": [
        {
          "output_type": "stream",
          "text": [
            "/usr/local/lib/python3.6/dist-packages/mmcv/utils/registry.py:64: UserWarning: The old API of register_module(module, force=False) is deprecated and will be removed, please use the new API register_module(name=None, force=False, module=None) instead.\n",
            "  'The old API of register_module(module, force=False) '\n"
          ],
          "name": "stderr"
        }
      ]
    },
    {
      "cell_type": "markdown",
      "metadata": {
        "id": "eOGJxS6Wwoxr",
        "colab_type": "text"
      },
      "source": [
        "Train\n",
        "\n",
        "Please remember to change the ```data``` section of the config.py to where the images are stored"
      ]
    },
    {
      "cell_type": "code",
      "metadata": {
        "id": "cvcMclNaHDz_",
        "colab_type": "code",
        "colab": {}
      },
      "source": [
        "!python tools/train.py /content/mmdetection/configs/project/htc_resnet101_mstrain_flip.py"
      ],
      "execution_count": null,
      "outputs": []
    },
    {
      "cell_type": "code",
      "metadata": {
        "id": "N6mXTmzKlXzO",
        "colab_type": "code",
        "colab": {}
      },
      "source": [
        "!python tools/train.py /content/mmdetection/configs/project/htc_resnext_mstrain_flip.py "
      ],
      "execution_count": null,
      "outputs": []
    },
    {
      "cell_type": "code",
      "metadata": {
        "id": "PL_94FoTJcKe",
        "colab_type": "code",
        "colab": {}
      },
      "source": [
        "!python tools/train.py /content/mmdetection/configs/project/htc_dcn_resnext_mstrain_flip.py"
      ],
      "execution_count": null,
      "outputs": []
    },
    {
      "cell_type": "markdown",
      "metadata": {
        "id": "LlGHJHXmSydt",
        "colab_type": "text"
      },
      "source": [
        "Test"
      ]
    },
    {
      "cell_type": "code",
      "metadata": {
        "id": "qh1lChX4rycD",
        "colab_type": "code",
        "colab": {}
      },
      "source": [
        "!python tools/test.py /content/mmdetection/configs/project/htc_resnet101_mstrain_flip.py /content/PATH_TO_MODEL/MODEL.pth --eval segm"
      ],
      "execution_count": null,
      "outputs": []
    },
    {
      "cell_type": "code",
      "metadata": {
        "id": "I0g3Aylfryfp",
        "colab_type": "code",
        "colab": {}
      },
      "source": [
        "!python tools/test.py /content/mmdetection/configs/project/htc_resnext_mstrain_flip.py /content/PATH_TO_MODEL/MODEL.pth --eval segm"
      ],
      "execution_count": null,
      "outputs": []
    },
    {
      "cell_type": "code",
      "metadata": {
        "id": "xCklqbZvryaH",
        "colab_type": "code",
        "colab": {}
      },
      "source": [
        "!python tools/test.py /content/mmdetection/configs/project/htc_dcn_resnext_mstrain_flip.py /content/PATH_TO_MODEL/MODEL.pth --eval segm"
      ],
      "execution_count": null,
      "outputs": []
    }
  ]
}