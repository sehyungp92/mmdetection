{
  "nbformat": 4,
  "nbformat_minor": 0,
  "metadata": {
    "colab": {
      "name": "semi_supervised.ipynb",
      "provenance": [],
      "machine_shape": "hm"
    },
    "kernelspec": {
      "name": "python3",
      "display_name": "Python 3"
    },
    "accelerator": "GPU"
  },
  "cells": [
    {
      "cell_type": "code",
      "metadata": {
        "id": "TGzaiGN3WR3u",
        "colab_type": "code",
        "colab": {}
      },
      "source": [
        "!git clone https://github.com/sehyungp92/mmdetection\n",
        "!pip install mmcv==0.6.2 terminaltables\n",
        "%cd mmdetection\n",
        "!python setup.py develop\n",
        "!pip install \"git+https://github.com/open-mmlab/cocoapi.git#subdirectory=pycocotools\"\n",
        "!pip install --upgrade albumentations"
      ],
      "execution_count": null,
      "outputs": []
    },
    {
      "cell_type": "code",
      "metadata": {
        "id": "9J58Rkd_WSIM",
        "colab_type": "code",
        "colab": {
          "base_uri": "https://localhost:8080/",
          "height": 70
        },
        "outputId": "09801290-8650-41ed-8b53-c44dc9e1e6a3"
      },
      "source": [
        "import os\n",
        "import sys\n",
        "import random\n",
        "import itertools\n",
        "import colorsys\n",
        "import glob\n",
        "\n",
        "import numpy as np\n",
        "import torch\n",
        "from skimage.measure import find_contours\n",
        "import skimage.color\n",
        "import skimage.io\n",
        "import skimage.transform\n",
        "import matplotlib.pyplot as plt\n",
        "from matplotlib import patches, lines\n",
        "from matplotlib.patches import Polygon\n",
        "import cv2\n",
        "import IPython.display\n",
        "\n",
        "import mmcv\n",
        "from mmcv.runner import load_checkpoint\n",
        "import mmcv.visualization.image as mmcv_image\n",
        "from mmdet.models import build_detector\n",
        "from mmdet.apis import init_detector, inference_detector, show_result_pyplot"
      ],
      "execution_count": null,
      "outputs": [
        {
          "output_type": "stream",
          "text": [
            "/usr/local/lib/python3.6/dist-packages/mmcv/utils/registry.py:64: UserWarning: The old API of register_module(module, force=False) is deprecated and will be removed, please use the new API register_module(name=None, force=False, module=None) instead.\n",
            "  'The old API of register_module(module, force=False) '\n"
          ],
          "name": "stderr"
        }
      ]
    },
    {
      "cell_type": "markdown",
      "metadata": {
        "id": "eeLj4LTiWZpl",
        "colab_type": "text"
      },
      "source": [
        "Main"
      ]
    },
    {
      "cell_type": "code",
      "metadata": {
        "id": "Fp1EiozByt-l",
        "colab_type": "code",
        "colab": {}
      },
      "source": [
        "!python tools/train.py /content/mmdetection/configs/project/htc_dcn_resnext_mstrain_flip_cb_jpeg_eq_sol_2_2.py"
      ],
      "execution_count": null,
      "outputs": []
    },
    {
      "cell_type": "code",
      "metadata": {
        "id": "BM-_wkMYcqmo",
        "colab_type": "code",
        "colab": {}
      },
      "source": [
        "!python tools/test.py /content/mmdetection/configs/project/htc_dcn_resnext_mstest_softnms_can.py /content/PATH_TO_MODEL/MODEL.pth --eval segm\n",
        "!python tools/test.py /content/mmdetection/configs/project/htc_dcn_resnext_mstest_softnms_paper.py /content/PATH_TO_MODEL/MODEL.pth --eval segm\n",
        "!python tools/test.py /content/mmdetection/configs/project/htc_dcn_resnext_mstest_softnms_egg.py /content/PATH_TO_MODEL/MODEL.pth --eval segm\n",
        "!python tools/test.py /content/mmdetection/configs/project/htc_dcn_resnext_mstest_softnms_hdpe.py /content/PATH_TO_MODEL/MODEL.pth --eval segm\n",
        "!python tools/test.py /content/mmdetection/configs/project/htc_dcn_resnext_mstest_softnms_nfgo.py /content/PATH_TO_MODEL/MODEL.pth --eval segm\n",
        "!python tools/test.py /content/mmdetection/configs/project/htc_dcn_resnext_mstest_softnms_nfgt.py /content/PATH_TO_MODEL/MODEL.pth --eval segm\n",
        "!python tools/test.py /content/mmdetection/configs/project/htc_dcn_resnext_mstest_softnms_petl.py /content/PATH_TO_MODEL/MODEL.pth --eval segm\n",
        "!python tools/test.py /content/mmdetection/configs/project/htc_dcn_resnext_mstest_softnms_tetl.py /content/PATH_TO_MODEL/MODEL.pth --eval segm\n",
        "!python tools/test.py /content/mmdetection/configs/project/htc_dcn_resnext_mstest_softnms_trayd.py /content/PATH_TO_MODEL/MODEL.pth --eval segm\n",
        "!python tools/test.py /content/mmdetection/configs/project/htc_dcn_resnext_mstest_softnms_trayf.py /content/PATH_TO_MODEL/MODEL.pth --eval segm"
      ],
      "execution_count": null,
      "outputs": []
    }
  ]
}